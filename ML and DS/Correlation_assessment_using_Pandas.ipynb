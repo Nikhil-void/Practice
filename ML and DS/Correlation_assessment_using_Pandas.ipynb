{
 "cells": [
  {
   "cell_type": "markdown",
   "id": "8522fba8",
   "metadata": {},
   "source": [
    "## Drawing inference and correlation between different fields of a dataset (Job satisfaction survey) using pandas"
   ]
  },
  {
   "cell_type": "code",
   "execution_count": 1,
   "id": "e434abf6",
   "metadata": {},
   "outputs": [],
   "source": [
    "import os\n",
    "import pandas as pd\n",
    "import numpy as np"
   ]
  },
  {
   "cell_type": "code",
   "execution_count": 2,
   "id": "6d6462c4",
   "metadata": {},
   "outputs": [
    {
     "data": {
      "text/plain": [
       "['.ipynb_checkpoints',\n",
       " 'Homework_7.ipynb',\n",
       " 'survey_results_public.csv',\n",
       " 'survey_results_schema.csv']"
      ]
     },
     "execution_count": 2,
     "metadata": {},
     "output_type": "execute_result"
    }
   ],
   "source": [
    "os.listdir()"
   ]
  },
  {
   "cell_type": "code",
   "execution_count": 3,
   "id": "13062c1a",
   "metadata": {},
   "outputs": [
    {
     "name": "stderr",
     "output_type": "stream",
     "text": [
      "C:\\Users\\Void\\anaconda3\\lib\\site-packages\\IPython\\core\\interactiveshell.py:3165: DtypeWarning: Columns (8,12,13,14,15,16,50,51,52,53,55,56,57,58,59,60,61,62,63,64,65,66,67,68,69,70,71,72,73,74,75,76,77,78,79,80,81,82,83,84,85,93,94,95,96,97,98,99,100,101,102,103,104,105,106,107,108,109,110,111,112,113,114,115,116,117,118,119,120,121,122,123,124,125,126,127,128) have mixed types.Specify dtype option on import or set low_memory=False.\n",
      "  has_raised = await self.run_ast_nodes(code_ast.body, cell_name,\n"
     ]
    }
   ],
   "source": [
    "df = pd.read_csv(\"survey_results_public.csv\")"
   ]
  },
  {
   "cell_type": "code",
   "execution_count": 4,
   "id": "98a42842",
   "metadata": {},
   "outputs": [],
   "source": [
    "df.dropna(inplace=True)"
   ]
  },
  {
   "cell_type": "code",
   "execution_count": 5,
   "id": "55331fa1",
   "metadata": {
    "scrolled": true
   },
   "outputs": [
    {
     "data": {
      "text/html": [
       "<div>\n",
       "<style scoped>\n",
       "    .dataframe tbody tr th:only-of-type {\n",
       "        vertical-align: middle;\n",
       "    }\n",
       "\n",
       "    .dataframe tbody tr th {\n",
       "        vertical-align: top;\n",
       "    }\n",
       "\n",
       "    .dataframe thead th {\n",
       "        text-align: right;\n",
       "    }\n",
       "</style>\n",
       "<table border=\"1\" class=\"dataframe\">\n",
       "  <thead>\n",
       "    <tr style=\"text-align: right;\">\n",
       "      <th></th>\n",
       "      <th>Respondent</th>\n",
       "      <th>Hobby</th>\n",
       "      <th>OpenSource</th>\n",
       "      <th>Country</th>\n",
       "      <th>Student</th>\n",
       "      <th>Employment</th>\n",
       "      <th>FormalEducation</th>\n",
       "      <th>UndergradMajor</th>\n",
       "      <th>CompanySize</th>\n",
       "      <th>DevType</th>\n",
       "      <th>...</th>\n",
       "      <th>Exercise</th>\n",
       "      <th>Gender</th>\n",
       "      <th>SexualOrientation</th>\n",
       "      <th>EducationParents</th>\n",
       "      <th>RaceEthnicity</th>\n",
       "      <th>Age</th>\n",
       "      <th>Dependents</th>\n",
       "      <th>MilitaryUS</th>\n",
       "      <th>SurveyTooLong</th>\n",
       "      <th>SurveyEasy</th>\n",
       "    </tr>\n",
       "  </thead>\n",
       "  <tbody>\n",
       "    <tr>\n",
       "      <th>14793</th>\n",
       "      <td>21037</td>\n",
       "      <td>Yes</td>\n",
       "      <td>No</td>\n",
       "      <td>United States</td>\n",
       "      <td>No</td>\n",
       "      <td>Employed full-time</td>\n",
       "      <td>Master’s degree (MA, MS, M.Eng., MBA, etc.)</td>\n",
       "      <td>A humanities discipline (ex. literature, histo...</td>\n",
       "      <td>500 to 999 employees</td>\n",
       "      <td>Back-end developer;Front-end developer;Full-st...</td>\n",
       "      <td>...</td>\n",
       "      <td>Daily or almost every day</td>\n",
       "      <td>Male</td>\n",
       "      <td>Straight or heterosexual</td>\n",
       "      <td>Other doctoral degree (Ph.D, Ed.D., etc.)</td>\n",
       "      <td>White or of European descent</td>\n",
       "      <td>25 - 34 years old</td>\n",
       "      <td>No</td>\n",
       "      <td>No</td>\n",
       "      <td>The survey was an appropriate length</td>\n",
       "      <td>Very easy</td>\n",
       "    </tr>\n",
       "    <tr>\n",
       "      <th>36346</th>\n",
       "      <td>51637</td>\n",
       "      <td>Yes</td>\n",
       "      <td>No</td>\n",
       "      <td>United States</td>\n",
       "      <td>No</td>\n",
       "      <td>Employed full-time</td>\n",
       "      <td>Bachelor’s degree (BA, BS, B.Eng., etc.)</td>\n",
       "      <td>Computer science, computer engineering, or sof...</td>\n",
       "      <td>1,000 to 4,999 employees</td>\n",
       "      <td>Back-end developer;Front-end developer;Full-st...</td>\n",
       "      <td>...</td>\n",
       "      <td>1 - 2 times per week</td>\n",
       "      <td>Male</td>\n",
       "      <td>Straight or heterosexual</td>\n",
       "      <td>Bachelor’s degree (BA, BS, B.Eng., etc.)</td>\n",
       "      <td>White or of European descent</td>\n",
       "      <td>25 - 34 years old</td>\n",
       "      <td>Yes</td>\n",
       "      <td>No</td>\n",
       "      <td>The survey was an appropriate length</td>\n",
       "      <td>Somewhat easy</td>\n",
       "    </tr>\n",
       "    <tr>\n",
       "      <th>36588</th>\n",
       "      <td>51995</td>\n",
       "      <td>Yes</td>\n",
       "      <td>Yes</td>\n",
       "      <td>United States</td>\n",
       "      <td>No</td>\n",
       "      <td>Employed full-time</td>\n",
       "      <td>Other doctoral degree (Ph.D, Ed.D., etc.)</td>\n",
       "      <td>A natural science (ex. biology, chemistry, phy...</td>\n",
       "      <td>20 to 99 employees</td>\n",
       "      <td>Full-stack developer</td>\n",
       "      <td>...</td>\n",
       "      <td>3 - 4 times per week</td>\n",
       "      <td>Female</td>\n",
       "      <td>Straight or heterosexual</td>\n",
       "      <td>Master’s degree (MA, MS, M.Eng., MBA, etc.)</td>\n",
       "      <td>White or of European descent</td>\n",
       "      <td>35 - 44 years old</td>\n",
       "      <td>No</td>\n",
       "      <td>No</td>\n",
       "      <td>The survey was too long</td>\n",
       "      <td>Very easy</td>\n",
       "    </tr>\n",
       "    <tr>\n",
       "      <th>44987</th>\n",
       "      <td>63841</td>\n",
       "      <td>Yes</td>\n",
       "      <td>Yes</td>\n",
       "      <td>United States</td>\n",
       "      <td>No</td>\n",
       "      <td>Employed full-time</td>\n",
       "      <td>Bachelor’s degree (BA, BS, B.Eng., etc.)</td>\n",
       "      <td>A humanities discipline (ex. literature, histo...</td>\n",
       "      <td>100 to 499 employees</td>\n",
       "      <td>Back-end developer;Designer;Front-end develope...</td>\n",
       "      <td>...</td>\n",
       "      <td>Daily or almost every day</td>\n",
       "      <td>Male</td>\n",
       "      <td>Straight or heterosexual</td>\n",
       "      <td>Other doctoral degree (Ph.D, Ed.D., etc.)</td>\n",
       "      <td>White or of European descent</td>\n",
       "      <td>35 - 44 years old</td>\n",
       "      <td>No</td>\n",
       "      <td>No</td>\n",
       "      <td>The survey was an appropriate length</td>\n",
       "      <td>Very easy</td>\n",
       "    </tr>\n",
       "    <tr>\n",
       "      <th>45199</th>\n",
       "      <td>64129</td>\n",
       "      <td>Yes</td>\n",
       "      <td>No</td>\n",
       "      <td>United States</td>\n",
       "      <td>No</td>\n",
       "      <td>Employed full-time</td>\n",
       "      <td>Master’s degree (MA, MS, M.Eng., MBA, etc.)</td>\n",
       "      <td>Fine arts or performing arts (ex. graphic desi...</td>\n",
       "      <td>20 to 99 employees</td>\n",
       "      <td>Front-end developer</td>\n",
       "      <td>...</td>\n",
       "      <td>1 - 2 times per week</td>\n",
       "      <td>Male</td>\n",
       "      <td>Straight or heterosexual</td>\n",
       "      <td>Professional degree (JD, MD, etc.)</td>\n",
       "      <td>White or of European descent</td>\n",
       "      <td>25 - 34 years old</td>\n",
       "      <td>No</td>\n",
       "      <td>No</td>\n",
       "      <td>The survey was an appropriate length</td>\n",
       "      <td>Very easy</td>\n",
       "    </tr>\n",
       "    <tr>\n",
       "      <th>55242</th>\n",
       "      <td>78358</td>\n",
       "      <td>Yes</td>\n",
       "      <td>Yes</td>\n",
       "      <td>United States</td>\n",
       "      <td>No</td>\n",
       "      <td>Employed full-time</td>\n",
       "      <td>Associate degree</td>\n",
       "      <td>Web development or web design</td>\n",
       "      <td>20 to 99 employees</td>\n",
       "      <td>Front-end developer</td>\n",
       "      <td>...</td>\n",
       "      <td>1 - 2 times per week</td>\n",
       "      <td>Male</td>\n",
       "      <td>Straight or heterosexual</td>\n",
       "      <td>Associate degree</td>\n",
       "      <td>Hispanic or Latino/Latina</td>\n",
       "      <td>35 - 44 years old</td>\n",
       "      <td>No</td>\n",
       "      <td>No</td>\n",
       "      <td>The survey was too long</td>\n",
       "      <td>Somewhat easy</td>\n",
       "    </tr>\n",
       "  </tbody>\n",
       "</table>\n",
       "<p>6 rows × 129 columns</p>\n",
       "</div>"
      ],
      "text/plain": [
       "       Respondent Hobby OpenSource        Country Student          Employment  \\\n",
       "14793       21037   Yes         No  United States      No  Employed full-time   \n",
       "36346       51637   Yes         No  United States      No  Employed full-time   \n",
       "36588       51995   Yes        Yes  United States      No  Employed full-time   \n",
       "44987       63841   Yes        Yes  United States      No  Employed full-time   \n",
       "45199       64129   Yes         No  United States      No  Employed full-time   \n",
       "55242       78358   Yes        Yes  United States      No  Employed full-time   \n",
       "\n",
       "                                   FormalEducation  \\\n",
       "14793  Master’s degree (MA, MS, M.Eng., MBA, etc.)   \n",
       "36346     Bachelor’s degree (BA, BS, B.Eng., etc.)   \n",
       "36588    Other doctoral degree (Ph.D, Ed.D., etc.)   \n",
       "44987     Bachelor’s degree (BA, BS, B.Eng., etc.)   \n",
       "45199  Master’s degree (MA, MS, M.Eng., MBA, etc.)   \n",
       "55242                             Associate degree   \n",
       "\n",
       "                                          UndergradMajor  \\\n",
       "14793  A humanities discipline (ex. literature, histo...   \n",
       "36346  Computer science, computer engineering, or sof...   \n",
       "36588  A natural science (ex. biology, chemistry, phy...   \n",
       "44987  A humanities discipline (ex. literature, histo...   \n",
       "45199  Fine arts or performing arts (ex. graphic desi...   \n",
       "55242                      Web development or web design   \n",
       "\n",
       "                    CompanySize  \\\n",
       "14793      500 to 999 employees   \n",
       "36346  1,000 to 4,999 employees   \n",
       "36588        20 to 99 employees   \n",
       "44987      100 to 499 employees   \n",
       "45199        20 to 99 employees   \n",
       "55242        20 to 99 employees   \n",
       "\n",
       "                                                 DevType  ...  \\\n",
       "14793  Back-end developer;Front-end developer;Full-st...  ...   \n",
       "36346  Back-end developer;Front-end developer;Full-st...  ...   \n",
       "36588                               Full-stack developer  ...   \n",
       "44987  Back-end developer;Designer;Front-end develope...  ...   \n",
       "45199                                Front-end developer  ...   \n",
       "55242                                Front-end developer  ...   \n",
       "\n",
       "                        Exercise  Gender         SexualOrientation  \\\n",
       "14793  Daily or almost every day    Male  Straight or heterosexual   \n",
       "36346       1 - 2 times per week    Male  Straight or heterosexual   \n",
       "36588       3 - 4 times per week  Female  Straight or heterosexual   \n",
       "44987  Daily or almost every day    Male  Straight or heterosexual   \n",
       "45199       1 - 2 times per week    Male  Straight or heterosexual   \n",
       "55242       1 - 2 times per week    Male  Straight or heterosexual   \n",
       "\n",
       "                                  EducationParents  \\\n",
       "14793    Other doctoral degree (Ph.D, Ed.D., etc.)   \n",
       "36346     Bachelor’s degree (BA, BS, B.Eng., etc.)   \n",
       "36588  Master’s degree (MA, MS, M.Eng., MBA, etc.)   \n",
       "44987    Other doctoral degree (Ph.D, Ed.D., etc.)   \n",
       "45199           Professional degree (JD, MD, etc.)   \n",
       "55242                             Associate degree   \n",
       "\n",
       "                      RaceEthnicity                Age Dependents  MilitaryUS  \\\n",
       "14793  White or of European descent  25 - 34 years old         No          No   \n",
       "36346  White or of European descent  25 - 34 years old        Yes          No   \n",
       "36588  White or of European descent  35 - 44 years old         No          No   \n",
       "44987  White or of European descent  35 - 44 years old         No          No   \n",
       "45199  White or of European descent  25 - 34 years old         No          No   \n",
       "55242     Hispanic or Latino/Latina  35 - 44 years old         No          No   \n",
       "\n",
       "                              SurveyTooLong     SurveyEasy  \n",
       "14793  The survey was an appropriate length      Very easy  \n",
       "36346  The survey was an appropriate length  Somewhat easy  \n",
       "36588               The survey was too long      Very easy  \n",
       "44987  The survey was an appropriate length      Very easy  \n",
       "45199  The survey was an appropriate length      Very easy  \n",
       "55242               The survey was too long  Somewhat easy  \n",
       "\n",
       "[6 rows x 129 columns]"
      ]
     },
     "execution_count": 5,
     "metadata": {},
     "output_type": "execute_result"
    }
   ],
   "source": [
    "df"
   ]
  },
  {
   "cell_type": "code",
   "execution_count": 6,
   "id": "b2b069ad",
   "metadata": {},
   "outputs": [],
   "source": [
    "df['JobSatisfaction'].fillna(0, inplace=True)"
   ]
  },
  {
   "cell_type": "code",
   "execution_count": 7,
   "id": "c002b51d",
   "metadata": {},
   "outputs": [],
   "source": [
    "vals = df['JobSatisfaction'].unique()"
   ]
  },
  {
   "cell_type": "code",
   "execution_count": 8,
   "id": "e6d126ca",
   "metadata": {},
   "outputs": [
    {
     "data": {
      "text/plain": [
       "array(['Moderately dissatisfied', 'Moderately satisfied',\n",
       "       'Slightly dissatisfied', 'Slightly satisfied'], dtype=object)"
      ]
     },
     "execution_count": 8,
     "metadata": {},
     "output_type": "execute_result"
    }
   ],
   "source": [
    "vals"
   ]
  },
  {
   "cell_type": "code",
   "execution_count": 9,
   "id": "f7650190",
   "metadata": {},
   "outputs": [],
   "source": [
    "mapping_dict = {'Extremely satisfied':7, 'Moderately dissatisfied':2,\n",
    "       'Moderately satisfied':6, 'Neither satisfied nor dissatisfied':4,\n",
    "       'Slightly satisfied':5, 'Slightly dissatisfied':3,\n",
    "       'Extremely dissatisfied':1, 0:0}"
   ]
  },
  {
   "cell_type": "code",
   "execution_count": 10,
   "id": "daaf1a13",
   "metadata": {},
   "outputs": [
    {
     "data": {
      "text/plain": [
       "{'Extremely satisfied': 7,\n",
       " 'Moderately dissatisfied': 2,\n",
       " 'Moderately satisfied': 6,\n",
       " 'Neither satisfied nor dissatisfied': 4,\n",
       " 'Slightly satisfied': 5,\n",
       " 'Slightly dissatisfied': 3,\n",
       " 'Extremely dissatisfied': 1,\n",
       " 0: 0}"
      ]
     },
     "execution_count": 10,
     "metadata": {},
     "output_type": "execute_result"
    }
   ],
   "source": [
    "mapping_dict"
   ]
  },
  {
   "cell_type": "code",
   "execution_count": 11,
   "id": "463f73b1",
   "metadata": {},
   "outputs": [],
   "source": [
    "df['JobSatisfaction'] = [mapping_dict[x] for x in df['JobSatisfaction']]"
   ]
  },
  {
   "cell_type": "code",
   "execution_count": 12,
   "id": "ff665532",
   "metadata": {},
   "outputs": [
    {
     "data": {
      "text/plain": [
       "14793    2\n",
       "36346    6\n",
       "36588    3\n",
       "44987    5\n",
       "45199    6\n",
       "55242    6\n",
       "Name: JobSatisfaction, dtype: int64"
      ]
     },
     "execution_count": 12,
     "metadata": {},
     "output_type": "execute_result"
    }
   ],
   "source": [
    "df['JobSatisfaction']"
   ]
  },
  {
   "cell_type": "code",
   "execution_count": 13,
   "id": "ccc41eba",
   "metadata": {},
   "outputs": [],
   "source": [
    "corr_vals = df.corr()['JobSatisfaction'].sort_values(ascending=False)"
   ]
  },
  {
   "cell_type": "code",
   "execution_count": 14,
   "id": "d67d1ec8",
   "metadata": {},
   "outputs": [
    {
     "data": {
      "text/plain": [
       "JobSatisfaction          1.000000e+00\n",
       "AssessJob1               8.913043e-01\n",
       "Respondent               8.088367e-01\n",
       "ConvertedSalary          7.837743e-01\n",
       "AdsPriorities1           6.361464e-01\n",
       "AssessBenefits10         6.285417e-01\n",
       "AssessBenefits11         5.000000e-01\n",
       "AssessBenefits2          4.645351e-01\n",
       "JobEmailPriorities3      4.587317e-01\n",
       "AssessJob10              4.429398e-01\n",
       "AssessBenefits5          4.360641e-01\n",
       "AssessJob3               4.262879e-01\n",
       "JobContactPriorities2    3.730019e-01\n",
       "AssessBenefits1          3.730019e-01\n",
       "JobEmailPriorities6      2.580234e-01\n",
       "JobEmailPriorities2      2.516810e-01\n",
       "JobContactPriorities4    2.279514e-01\n",
       "AssessJob8               1.764507e-01\n",
       "AdsPriorities2           1.365047e-01\n",
       "AdsPriorities6           1.226423e-01\n",
       "AssessBenefits8          1.022326e-01\n",
       "JobContactPriorities1    8.285523e-02\n",
       "JobEmailPriorities4      6.512896e-02\n",
       "AssessBenefits6          5.507601e-02\n",
       "AdsPriorities5           1.628224e-02\n",
       "AssessJob2               1.402620e-02\n",
       "AdsPriorities7          -4.891732e-17\n",
       "AssessJob6              -7.744031e-02\n",
       "JobEmailPriorities7     -1.088931e-01\n",
       "AssessJob4              -1.313904e-01\n",
       "AdsPriorities3          -2.200431e-01\n",
       "JobContactPriorities5   -3.266793e-01\n",
       "AssessJob9              -3.478261e-01\n",
       "JobEmailPriorities1     -3.646203e-01\n",
       "AssessBenefits3         -3.649002e-01\n",
       "AssessJob7              -4.607561e-01\n",
       "JobEmailPriorities5     -4.904698e-01\n",
       "AssessBenefits9         -5.356832e-01\n",
       "AssessBenefits4         -6.113183e-01\n",
       "JobContactPriorities3   -6.255432e-01\n",
       "AssessBenefits7         -6.857830e-01\n",
       "AdsPriorities4          -7.003493e-01\n",
       "AssessJob5              -9.724693e-01\n",
       "Name: JobSatisfaction, dtype: float64"
      ]
     },
     "execution_count": 14,
     "metadata": {},
     "output_type": "execute_result"
    }
   ],
   "source": [
    "corr_vals"
   ]
  },
  {
   "cell_type": "code",
   "execution_count": 15,
   "id": "c833de79",
   "metadata": {},
   "outputs": [],
   "source": [
    "df1 = pd.read_csv(\"survey_results_schema.csv\")"
   ]
  },
  {
   "cell_type": "code",
   "execution_count": 16,
   "id": "9f4a83ec",
   "metadata": {},
   "outputs": [],
   "source": [
    "top_corelations = df1.loc[df1['Column'].isin(corr_vals.keys()[1:6])] #Taking 1 to 6 because 0 is with itself"
   ]
  },
  {
   "cell_type": "code",
   "execution_count": 17,
   "id": "794c09a9",
   "metadata": {},
   "outputs": [
    {
     "data": {
      "text/html": [
       "<div>\n",
       "<style scoped>\n",
       "    .dataframe tbody tr th:only-of-type {\n",
       "        vertical-align: middle;\n",
       "    }\n",
       "\n",
       "    .dataframe tbody tr th {\n",
       "        vertical-align: top;\n",
       "    }\n",
       "\n",
       "    .dataframe thead th {\n",
       "        text-align: right;\n",
       "    }\n",
       "</style>\n",
       "<table border=\"1\" class=\"dataframe\">\n",
       "  <thead>\n",
       "    <tr style=\"text-align: right;\">\n",
       "      <th></th>\n",
       "      <th>Column</th>\n",
       "      <th>QuestionText</th>\n",
       "    </tr>\n",
       "  </thead>\n",
       "  <tbody>\n",
       "    <tr>\n",
       "      <th>0</th>\n",
       "      <td>Respondent</td>\n",
       "      <td>Randomized respondent ID number (not in order ...</td>\n",
       "    </tr>\n",
       "    <tr>\n",
       "      <th>17</th>\n",
       "      <td>AssessJob1</td>\n",
       "      <td>Imagine that you are assessing a potential job...</td>\n",
       "    </tr>\n",
       "    <tr>\n",
       "      <th>36</th>\n",
       "      <td>AssessBenefits10</td>\n",
       "      <td>Now, imagine you are assessing a job's benefit...</td>\n",
       "    </tr>\n",
       "    <tr>\n",
       "      <th>54</th>\n",
       "      <td>ConvertedSalary</td>\n",
       "      <td>Salary converted to annual USD salaries using ...</td>\n",
       "    </tr>\n",
       "    <tr>\n",
       "      <th>86</th>\n",
       "      <td>AdsPriorities1</td>\n",
       "      <td>Please rank the following advertising qualitie...</td>\n",
       "    </tr>\n",
       "  </tbody>\n",
       "</table>\n",
       "</div>"
      ],
      "text/plain": [
       "              Column                                       QuestionText\n",
       "0         Respondent  Randomized respondent ID number (not in order ...\n",
       "17        AssessJob1  Imagine that you are assessing a potential job...\n",
       "36  AssessBenefits10  Now, imagine you are assessing a job's benefit...\n",
       "54   ConvertedSalary  Salary converted to annual USD salaries using ...\n",
       "86    AdsPriorities1  Please rank the following advertising qualitie..."
      ]
     },
     "execution_count": 17,
     "metadata": {},
     "output_type": "execute_result"
    }
   ],
   "source": [
    "top_corelations"
   ]
  },
  {
   "cell_type": "code",
   "execution_count": 18,
   "id": "48b004cf",
   "metadata": {},
   "outputs": [],
   "source": [
    "top_corelations_dict = dict(zip(top_corelations.Column, top_corelations.QuestionText))"
   ]
  },
  {
   "cell_type": "code",
   "execution_count": 19,
   "id": "a5654ad0",
   "metadata": {},
   "outputs": [],
   "source": [
    "bottom_corelations = df1.loc[df1['Column'].isin(corr_vals.keys()[-6:])]\n",
    "bot_corelations_dict = dict(zip(bottom_corelations.Column, bottom_corelations.QuestionText))"
   ]
  },
  {
   "cell_type": "code",
   "execution_count": 20,
   "id": "2af29ec6",
   "metadata": {},
   "outputs": [
    {
     "name": "stdout",
     "output_type": "stream",
     "text": [
      "Respondent : Randomized respondent ID number (not in order of survey response time)\n",
      "\n",
      "AssessJob1 : Imagine that you are assessing a potential job opportunity. Please rank the following aspects of the job opportunity in order of importance (by dragging the choices up and down), where 1 is the most important and 10 is the least important. The industry that I'd be working in\n",
      "\n",
      "AssessBenefits10 : Now, imagine you are assessing a job's benefits package. Please rank the following aspects of a job's benefits package from most to least important to you (by dragging the choices up and down), where 1 is most important and 11 is least important. Transportation benefit (ex. company-provided transportation, public transit allowance)\n",
      "\n",
      "ConvertedSalary : Salary converted to annual USD salaries using the exchange rate on 2018-01-18, assuming 12 working months and 50 working weeks.\n",
      "\n",
      "AdsPriorities1 : Please rank the following advertising qualities in order of their importance to you (by dragging the choices up and down), where 1 is the most important, and 7 is the least important. The advertisement is relevant to me\n",
      "\n"
     ]
    }
   ],
   "source": [
    "for i, v in top_corelations_dict.items():\n",
    "    print(i + ' : ' + v + '\\n')"
   ]
  },
  {
   "cell_type": "code",
   "execution_count": 21,
   "id": "29d61113",
   "metadata": {},
   "outputs": [
    {
     "name": "stdout",
     "output_type": "stream",
     "text": [
      "AssessJob5 : Imagine that you are assessing a potential job opportunity. Please rank the following aspects of the job opportunity in order of importance (by dragging the choices up and down), where 1 is the most important and 10 is the least important. The compensation and benefits offered\n",
      "\n",
      "AssessBenefits4 : Now, imagine you are assessing a job's benefits package. Please rank the following aspects of a job's benefits package from most to least important to you (by dragging the choices up and down), where 1 is most important and 11 is least important. Parental leave\n",
      "\n",
      "AssessBenefits7 : Now, imagine you are assessing a job's benefits package. Please rank the following aspects of a job's benefits package from most to least important to you (by dragging the choices up and down), where 1 is most important and 11 is least important. Company-provided meals or snacks\n",
      "\n",
      "AssessBenefits9 : Now, imagine you are assessing a job's benefits package. Please rank the following aspects of a job's benefits package from most to least important to you (by dragging the choices up and down), where 1 is most important and 11 is least important. Childcare benefit\n",
      "\n",
      "JobContactPriorities3 : Imagine that a company wanted to contact you about a job that is a good fit for you. Please rank your preference in how you are contacted (by dragging the choices up and down), where 1 is the most preferred and 5 is the least preferred. Email to my work address\n",
      "\n",
      "AdsPriorities4 : Please rank the following advertising qualities in order of their importance to you (by dragging the choices up and down), where 1 is the most important, and 7 is the least important. The advertisement seems trustworthy\n",
      "\n"
     ]
    }
   ],
   "source": [
    "for i, v in bot_corelations_dict.items():\n",
    "    print(i + ' : ' + v + '\\n')"
   ]
  },
  {
   "cell_type": "markdown",
   "id": "412b3334",
   "metadata": {},
   "source": [
    "### Key points highlighted by corellation of Job Satisfaction\n",
    "> 1. It is industry you are going to work in is not important\n",
    "> 2. Transportation benifit is not that important\n",
    "> 3. Company can contact anyhow, Phone calls are not imporant\n",
    "> 4. New Company should not email to old company work address\n",
    "> 5. Info on company's hiring process not important\n",
    "\n",
    "> 1. The compansation and benifits offered are important\n",
    "> 2. Salary and/or bonuses is important\n",
    "> 3. New company should email to private email address\n",
    "> 4. New company can msg on the job site\n",
    "> 5. New company can msg on the social media site\n",
    "> 6. New company should provide estimate of the compensation range"
   ]
  },
  {
   "cell_type": "markdown",
   "id": "db777a5b",
   "metadata": {},
   "source": [
    "----------------------------"
   ]
  },
  {
   "cell_type": "code",
   "execution_count": 22,
   "id": "81c6839d",
   "metadata": {},
   "outputs": [],
   "source": [
    "#df['Salary'].fillna(0,inplace=True)"
   ]
  },
  {
   "cell_type": "code",
   "execution_count": 23,
   "id": "4bc8dc79",
   "metadata": {},
   "outputs": [],
   "source": [
    "df.Salary = df.Salary.astype(int)"
   ]
  },
  {
   "cell_type": "code",
   "execution_count": 24,
   "id": "a0598989",
   "metadata": {},
   "outputs": [],
   "source": [
    "corr_salary = df.corr()['Salary'].sort_values(ascending=False)"
   ]
  },
  {
   "cell_type": "code",
   "execution_count": 25,
   "id": "0711d390",
   "metadata": {},
   "outputs": [],
   "source": [
    "corelations = df1.loc[df1['Column'].isin(corr_salary.keys()[1:6])]"
   ]
  },
  {
   "cell_type": "code",
   "execution_count": 26,
   "id": "5a107177",
   "metadata": {},
   "outputs": [],
   "source": [
    "corelations = corelations.append(df1.loc[df1['Column'].isin(corr_salary.keys()[-5:])])"
   ]
  },
  {
   "cell_type": "code",
   "execution_count": 27,
   "id": "79f2fef3",
   "metadata": {},
   "outputs": [
    {
     "data": {
      "text/plain": [
       "ConvertedSalary          1.000000\n",
       "Salary                   1.000000\n",
       "Respondent               0.900373\n",
       "JobSatisfaction          0.783774\n",
       "JobEmailPriorities3      0.764094\n",
       "AssessJob3               0.714921\n",
       "AssessJob1               0.688693\n",
       "AssessBenefits10         0.627011\n",
       "AssessBenefits5          0.571698\n",
       "AdsPriorities6           0.442170\n",
       "JobContactPriorities1    0.411356\n",
       "JobEmailPriorities6      0.374721\n",
       "AdsPriorities7           0.351565\n",
       "AssessJob6               0.324971\n",
       "AssessBenefits1          0.319667\n",
       "JobContactPriorities2    0.319667\n",
       "AssessJob10              0.315534\n",
       "AdsPriorities1           0.259775\n",
       "AssessJob4               0.227795\n",
       "AssessBenefits6          0.221356\n",
       "JobEmailPriorities7      0.218826\n",
       "AssessBenefits11         0.203010\n",
       "AssessBenefits2          0.080538\n",
       "JobEmailPriorities4     -0.076988\n",
       "AssessJob8              -0.093059\n",
       "AssessBenefits8         -0.128099\n",
       "JobContactPriorities4   -0.130880\n",
       "AdsPriorities3          -0.163498\n",
       "JobContactPriorities5   -0.180209\n",
       "AssessBenefits3         -0.197186\n",
       "JobEmailPriorities5     -0.223914\n",
       "AssessBenefits4         -0.264452\n",
       "JobEmailPriorities2     -0.297509\n",
       "AssessJob2              -0.305075\n",
       "AdsPriorities4          -0.335506\n",
       "AdsPriorities2          -0.403401\n",
       "AssessJob9              -0.406021\n",
       "AssessJob7              -0.455330\n",
       "AdsPriorities5          -0.475401\n",
       "AssessBenefits9         -0.541118\n",
       "AssessBenefits7         -0.588721\n",
       "JobEmailPriorities1     -0.637149\n",
       "AssessJob5              -0.858220\n",
       "JobContactPriorities3   -0.887335\n",
       "Name: Salary, dtype: float64"
      ]
     },
     "execution_count": 27,
     "metadata": {},
     "output_type": "execute_result"
    }
   ],
   "source": [
    "corr_salary"
   ]
  },
  {
   "cell_type": "code",
   "execution_count": 28,
   "id": "a5fbf069",
   "metadata": {},
   "outputs": [
    {
     "data": {
      "text/html": [
       "<div>\n",
       "<style scoped>\n",
       "    .dataframe tbody tr th:only-of-type {\n",
       "        vertical-align: middle;\n",
       "    }\n",
       "\n",
       "    .dataframe tbody tr th {\n",
       "        vertical-align: top;\n",
       "    }\n",
       "\n",
       "    .dataframe thead th {\n",
       "        text-align: right;\n",
       "    }\n",
       "</style>\n",
       "<table border=\"1\" class=\"dataframe\">\n",
       "  <thead>\n",
       "    <tr style=\"text-align: right;\">\n",
       "      <th></th>\n",
       "      <th>Column</th>\n",
       "      <th>QuestionText</th>\n",
       "    </tr>\n",
       "  </thead>\n",
       "  <tbody>\n",
       "    <tr>\n",
       "      <th>0</th>\n",
       "      <td>Respondent</td>\n",
       "      <td>Randomized respondent ID number (not in order ...</td>\n",
       "    </tr>\n",
       "    <tr>\n",
       "      <th>12</th>\n",
       "      <td>JobSatisfaction</td>\n",
       "      <td>How satisfied are you with your current job? I...</td>\n",
       "    </tr>\n",
       "    <tr>\n",
       "      <th>19</th>\n",
       "      <td>AssessJob3</td>\n",
       "      <td>Imagine that you are assessing a potential job...</td>\n",
       "    </tr>\n",
       "    <tr>\n",
       "      <th>45</th>\n",
       "      <td>JobEmailPriorities3</td>\n",
       "      <td>Imagine that same company decided to contact y...</td>\n",
       "    </tr>\n",
       "    <tr>\n",
       "      <th>52</th>\n",
       "      <td>Salary</td>\n",
       "      <td>What is your current gross salary (before taxe...</td>\n",
       "    </tr>\n",
       "    <tr>\n",
       "      <th>21</th>\n",
       "      <td>AssessJob5</td>\n",
       "      <td>Imagine that you are assessing a potential job...</td>\n",
       "    </tr>\n",
       "    <tr>\n",
       "      <th>33</th>\n",
       "      <td>AssessBenefits7</td>\n",
       "      <td>Now, imagine you are assessing a job's benefit...</td>\n",
       "    </tr>\n",
       "    <tr>\n",
       "      <th>35</th>\n",
       "      <td>AssessBenefits9</td>\n",
       "      <td>Now, imagine you are assessing a job's benefit...</td>\n",
       "    </tr>\n",
       "    <tr>\n",
       "      <th>40</th>\n",
       "      <td>JobContactPriorities3</td>\n",
       "      <td>Imagine that a company wanted to contact you a...</td>\n",
       "    </tr>\n",
       "    <tr>\n",
       "      <th>43</th>\n",
       "      <td>JobEmailPriorities1</td>\n",
       "      <td>Imagine that same company decided to contact y...</td>\n",
       "    </tr>\n",
       "  </tbody>\n",
       "</table>\n",
       "</div>"
      ],
      "text/plain": [
       "                   Column                                       QuestionText\n",
       "0              Respondent  Randomized respondent ID number (not in order ...\n",
       "12        JobSatisfaction  How satisfied are you with your current job? I...\n",
       "19             AssessJob3  Imagine that you are assessing a potential job...\n",
       "45    JobEmailPriorities3  Imagine that same company decided to contact y...\n",
       "52                 Salary  What is your current gross salary (before taxe...\n",
       "21             AssessJob5  Imagine that you are assessing a potential job...\n",
       "33        AssessBenefits7  Now, imagine you are assessing a job's benefit...\n",
       "35        AssessBenefits9  Now, imagine you are assessing a job's benefit...\n",
       "40  JobContactPriorities3  Imagine that a company wanted to contact you a...\n",
       "43    JobEmailPriorities1  Imagine that same company decided to contact y..."
      ]
     },
     "execution_count": 28,
     "metadata": {},
     "output_type": "execute_result"
    }
   ],
   "source": [
    "corelations"
   ]
  },
  {
   "cell_type": "code",
   "execution_count": 29,
   "id": "3f17eee8",
   "metadata": {},
   "outputs": [
    {
     "name": "stdout",
     "output_type": "stream",
     "text": [
      "Respondent : Randomized respondent ID number (not in order of survey response time)\n",
      "\n",
      "JobSatisfaction : How satisfied are you with your current job? If you work more than one job, please answer regarding the one you spend the most hours on.\n",
      "\n",
      "AssessJob3 : Imagine that you are assessing a potential job opportunity. Please rank the following aspects of the job opportunity in order of importance (by dragging the choices up and down), where 1 is the most important and 10 is the least important. The specific department or team I'd be working on\n",
      "\n",
      "JobEmailPriorities3 : Imagine that same company decided to contact you through email. Please rank the following items by how important it is to include them in the message (by dragging the choices up and down), where 1 is the most important and 7 is the least important. Specifics of why they think I'd be a good fit for the role (ex. my prior work history, projects on GitHub)\n",
      "\n",
      "Salary : What is your current gross salary (before taxes and deductions), in ${q://QID50/ChoiceGroup/SelectedChoicesTextEntry}? Please enter a whole number in the box below, without any punctuation. If you are paid hourly, please estimate an equivalent weekly, monthly, or yearly salary. If you prefer not to answer, please leave the box empty.\n",
      "\n",
      "AssessJob5 : Imagine that you are assessing a potential job opportunity. Please rank the following aspects of the job opportunity in order of importance (by dragging the choices up and down), where 1 is the most important and 10 is the least important. The compensation and benefits offered\n",
      "\n",
      "AssessBenefits7 : Now, imagine you are assessing a job's benefits package. Please rank the following aspects of a job's benefits package from most to least important to you (by dragging the choices up and down), where 1 is most important and 11 is least important. Company-provided meals or snacks\n",
      "\n",
      "AssessBenefits9 : Now, imagine you are assessing a job's benefits package. Please rank the following aspects of a job's benefits package from most to least important to you (by dragging the choices up and down), where 1 is most important and 11 is least important. Childcare benefit\n",
      "\n",
      "JobContactPriorities3 : Imagine that a company wanted to contact you about a job that is a good fit for you. Please rank your preference in how you are contacted (by dragging the choices up and down), where 1 is the most preferred and 5 is the least preferred. Email to my work address\n",
      "\n",
      "JobEmailPriorities1 : Imagine that same company decided to contact you through email. Please rank the following items by how important it is to include them in the message (by dragging the choices up and down), where 1 is the most important and 7 is the least important. Details on the company I'd be working for\n",
      "\n"
     ]
    }
   ],
   "source": [
    "corelations_dict = dict(zip(corelations.Column, corelations.QuestionText))\n",
    "for i, v in corelations_dict.items():\n",
    "    print(i + ' : ' + v + '\\n')"
   ]
  },
  {
   "cell_type": "markdown",
   "id": "0db16296",
   "metadata": {},
   "source": [
    "### Key points highlighted by corellation of Salary\n",
    "> 1. Salary and Job satisfaction go hand in hand\n",
    "> 2. Salary and department or team are not corelated\n",
    "> 3. The compensation and benefits offered are important to higher salary\n",
    "> 4. Company-provided meals or snacks is important to higher salary\n",
    "> 5. Childcare benefit is important to higher salary\n",
    "\n"
   ]
  },
  {
   "cell_type": "markdown",
   "id": "4af4057d",
   "metadata": {},
   "source": [
    "## By analysis of corelation between Salary and Job satisfaction with other aspects of the survery.. It is clear that new generation should concentrate on salary and other benifits which are provided by the company they are working for to achieve overall happiness,"
   ]
  },
  {
   "cell_type": "code",
   "execution_count": null,
   "id": "e418a444",
   "metadata": {},
   "outputs": [],
   "source": []
  }
 ],
 "metadata": {
  "kernelspec": {
   "display_name": "Python 3 (ipykernel)",
   "language": "python",
   "name": "python3"
  },
  "language_info": {
   "codemirror_mode": {
    "name": "ipython",
    "version": 3
   },
   "file_extension": ".py",
   "mimetype": "text/x-python",
   "name": "python",
   "nbconvert_exporter": "python",
   "pygments_lexer": "ipython3",
   "version": "3.9.7"
  }
 },
 "nbformat": 4,
 "nbformat_minor": 5
}
