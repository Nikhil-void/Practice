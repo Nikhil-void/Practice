{
 "cells": [
  {
   "cell_type": "markdown",
   "id": "841fe8c9",
   "metadata": {},
   "source": [
    "# This Notebook consists of ML related challenging tasks. \n",
    "## Topics covered  –  Decision Tree"
   ]
  },
  {
   "cell_type": "markdown",
   "id": "d7d7d5ba",
   "metadata": {},
   "source": [
    "###  Task 1\n",
    ">Write a Python program using Scikit-learn to split the iris dataset into 80% train\n",
    "data and 20% test data. Out of total 150 records, the training set will contain 120\n",
    "records and the test set contains 30 of those records. Train or fit the data into the\n",
    "model and calculate the accuracy of the model using the Decision Tree Algorithm."
   ]
  },
  {
   "cell_type": "code",
   "execution_count": 1,
   "id": "e2570538",
   "metadata": {},
   "outputs": [],
   "source": [
    "import numpy as np \n",
    "import pandas as pd \n",
    "\n",
    "from sklearn.tree import DecisionTreeClassifier\n",
    "\n",
    "from sklearn.metrics import accuracy_score\n",
    "from sklearn.model_selection import train_test_split"
   ]
  },
  {
   "cell_type": "code",
   "execution_count": 2,
   "id": "99a1e232",
   "metadata": {},
   "outputs": [],
   "source": [
    "from sklearn.datasets import load_iris\n",
    "iris_data = load_iris() "
   ]
  },
  {
   "cell_type": "code",
   "execution_count": 3,
   "id": "03563905",
   "metadata": {},
   "outputs": [],
   "source": [
    "X = iris_data.data\n",
    "Y = iris_data.target"
   ]
  },
  {
   "cell_type": "code",
   "execution_count": 4,
   "id": "4c3c751a",
   "metadata": {},
   "outputs": [],
   "source": [
    "X_train, X_test, y_train, y_test = train_test_split(X, Y, test_size = 0.2)"
   ]
  },
  {
   "cell_type": "code",
   "execution_count": 5,
   "id": "10e843f5",
   "metadata": {},
   "outputs": [
    {
     "name": "stdout",
     "output_type": "stream",
     "text": [
      "(30, 4) (120, 4)\n"
     ]
    }
   ],
   "source": [
    "print(X_test.shape, X_train.shape)"
   ]
  },
  {
   "cell_type": "code",
   "execution_count": 6,
   "id": "9f0d03c3",
   "metadata": {},
   "outputs": [
    {
     "data": {
      "text/plain": [
       "DecisionTreeClassifier()"
      ]
     },
     "execution_count": 6,
     "metadata": {},
     "output_type": "execute_result"
    }
   ],
   "source": [
    "Dtree = DecisionTreeClassifier()\n",
    "Dtree.fit(X_train, y_train)"
   ]
  },
  {
   "cell_type": "code",
   "execution_count": 7,
   "id": "9e646442",
   "metadata": {},
   "outputs": [],
   "source": [
    "prediction = Dtree.predict(X_test)"
   ]
  },
  {
   "cell_type": "code",
   "execution_count": 8,
   "id": "ce4053fa",
   "metadata": {},
   "outputs": [
    {
     "data": {
      "text/plain": [
       "array([0, 0, 0, 1, 1, 2, 0, 0, 2, 0, 2, 2, 0, 2, 2, 1, 0, 1, 0, 0, 0, 0,\n",
       "       1, 0, 0, 1, 1, 2, 1, 2])"
      ]
     },
     "execution_count": 8,
     "metadata": {},
     "output_type": "execute_result"
    }
   ],
   "source": [
    "prediction"
   ]
  },
  {
   "cell_type": "code",
   "execution_count": 9,
   "id": "555d5856",
   "metadata": {},
   "outputs": [
    {
     "name": "stdout",
     "output_type": "stream",
     "text": [
      "Accuracy of the Decision Tree = 93.33333333333333\n"
     ]
    }
   ],
   "source": [
    "print(\"Accuracy of the Decision Tree = %s\" % (accuracy_score(y_test, prediction) * 100))"
   ]
  },
  {
   "cell_type": "markdown",
   "id": "8137301c",
   "metadata": {},
   "source": [
    "### Task 2 - Theory\n",
    ">What is meant by Collaborative filtering in Recommender System?"
   ]
  },
  {
   "cell_type": "markdown",
   "id": "314c9cef",
   "metadata": {},
   "source": [
    "Collaborative filtering filters information by using the interactions and data collected by the system from other users.\n",
    "It's based on the idea that people who agreed in their evaluation of certain items are likely to agree again in the future.\n",
    "\n",
    "Most collaborative filtering systems apply the so-called similarity index-based  technique. In the neighborhood-based approach, a number of users are selected based on their similarity to the active user. Inference for the active user is made by calculating a weighted average of the ratings of the selected users.\n",
    "\n",
    "Collaborative-filtering systems focus on the relationship between users and items. The similarity of items is determined by the similarity of the ratings of those items by the users who have rated both items.\n",
    "\n",
    "There are two classes of  Collaborative Filtering: \n",
    "1. User-based, which measures the similarity between target users and other users.\n",
    "2. Item-based, which measures the similarity between the items that target users rate or interact with and other items."
   ]
  },
  {
   "cell_type": "markdown",
   "id": "4f64e121",
   "metadata": {},
   "source": [
    "## Task 3 - Theory\n",
    "> For the dataset given below calculate Entropy an Information game, required\n",
    "to create a decision tree?\n",
    "\n",
    "|Day|Outlook |Temperature|Humidity|Wind  |Play Tennis|\n",
    "|---|--------|-----------|--------|------|-----------|\n",
    "|I  |Sunny   |Hot        |High    |Weak  |No         |\n",
    "|2  |Sunny   |Hot        |High    |Strong|No         |\n",
    "|3  |Overcast|Hot        |High    |Weak  |Yes        |\n",
    "|4  |Rain    |Mild       |High    |Weak  |Yes        |\n",
    "|5  |Rain    |Cool       |Normal  |Weak  |Yes        |\n",
    "|6  |Rain    |Cool       |Normal  |Strong|No         |\n",
    "|7  |Overcast|Cool       |Normal  |Strong|Yes        |\n",
    "|8  |Sunny   |Mild       |High    |Weak  |No         |\n",
    "|9  |Sunny   |Cool       |Normal  |Weak  |Yes        |\n",
    "|10 |Rain    |Mild       |Normal  |Weak  |Yes        |\n",
    "|11 |Sunny   |Mild       |Normal  |Strong|Yes        |\n",
    "|12 |Overcast|Mild       |High    |Strong|Yes        |\n",
    "|13 |Overcast|Hot        |Normal  |Weak  |Yes        |\n",
    "|14 |Rain    |Mild       |High    |Strong|No         |\n"
   ]
  },
  {
   "cell_type": "markdown",
   "id": "2f51d581",
   "metadata": {},
   "source": [
    "The independent variables are Outlook, Temperature, Humidity, Wind.\n",
    "The dependent variable is Play Tennis\n",
    "\n",
    "Based on the relation between dependent and independent variable, following relation can be made\n",
    "\n",
    "The table given can be restructured as follows:\n",
    "\n",
    "**Outlook**\n",
    "\n",
    ">Sunny    -> 2/5 = **Yes**\n",
    ">\n",
    ">         -> 3/5 = No\n",
    ">\n",
    ">Overcast -> 4/4 = **Yes**\n",
    ">\n",
    ">         -> 0/4 = No\n",
    ">\n",
    ">Rainy    -> 3/5 = **Yes**\n",
    ">\n",
    ">         -> 2/5 = No\n",
    "\n",
    "\n",
    "\n",
    "**Temperature**\n",
    "\n",
    ">Hot  -> 2/4 = **Yes**\n",
    ">\n",
    ">     -> 2/4 = No\n",
    ">\n",
    ">Mild -> 4/6 = **Yes**\n",
    ">\n",
    ">     -> 2/6 = No\n",
    ">\n",
    ">Cool -> 3/4 = **Yes**\n",
    ">\n",
    ">     -> 1/4 = No\n",
    "\n",
    "\n",
    "**Humidity**\n",
    "\n",
    ">High    -> 3/7 = **Yes**\n",
    ">\n",
    ">     -> 4/7 = No\n",
    ">\n",
    ">Normal  -> 6/7 = **Yes**\n",
    ">\n",
    ">       -> 1/7 = No\n",
    "\n",
    "**Wind**\n",
    "\n",
    ">Weak    -> 6/8 = **Yes**\n",
    ">\n",
    ">        -> 2/8 = No\n",
    ">\n",
    ">Strong  -> 3/6 = **Yes**\n",
    ">\n",
    ">        -> 3/6 = No"
   ]
  },
  {
   "cell_type": "markdown",
   "id": "ed7c7967",
   "metadata": {},
   "source": [
    "**Calculating the entropy of dependent variable**\n",
    "\n",
    "\n",
    ">Out of 14 instances, **9** are **YES** and **5** are **No**\n",
    ">\n",
    ">E(S) = - P(Yes) * log(P(Yes)) - P(No) * log(P(No))\n",
    ">\n",
    ">E(S) = - (9/14) * log(9/14) - (5/14) * log(5/14)\n",
    ">\n",
    ">E(S) = 0.41 + 0.53\n",
    ">\n",
    ">**E(S) = 0.94**\n",
    "\n",
    "\n",
    "**Calculating Entropy and Information Gain of Outlook**\n",
    "\n",
    ">E(Sunny) = -2/5 log(2/5) - 3/5 log(3/5)\n",
    ">\n",
    ">E(Sunny) = 0.529 + 0.442\n",
    ">\n",
    ">**E(Sunny) = 0.971**\n",
    ">\n",
    "\n",
    "\n",
    ">\n",
    ">E(Overcast) = - 4/4 log(4/4) - 0/4 log(0/4)\n",
    ">\n",
    ">**E(overcast) = 0**\n",
    "\n",
    "\n",
    ">\n",
    ">\n",
    ">E(Rainy) = -3/5 log(3/5) - 2/5 log(2/5)\n",
    ">\n",
    ">E(Rainy) = 0.442 + 0.529\n",
    ">\n",
    ">**E(Rainy) = 0.971**\n",
    "\n",
    "\n",
    ">**Information from Outlook**\n",
    ">\n",
    ">I(Outlook) = (5/14 * 0.971)  +  (4/14 * 0)  +  (5/14 * 0.971)\n",
    ">\n",
    ">**I(Outlook) = 0.693**\n",
    "\n",
    "\n",
    ">**Information Gain from Outlook**\n",
    ">\n",
    ">Gain(Outlook) = E(S) - I(Outlook)\n",
    ">\n",
    ">Gain(Outlook) = 0.94 - 0.693\n",
    ">\n",
    ">***Gain(Outlook) = 0.247***"
   ]
  },
  {
   "cell_type": "markdown",
   "id": "b798912d",
   "metadata": {},
   "source": [
    "**Similarly, Calculating Info gain for all other independent variables**\n",
    "\n",
    ">I(Temperature) = 4/14 *  (- 2/4 log(2/4) - 2/4 log(2/4)\n",
    ">\n",
    ">                 +\n",
    ">\n",
    ">                 6/14 * (- 4/6 log(4/6) - 2/6 log(2/6)\n",
    ">                 \n",
    ">                 +\n",
    ">               \n",
    ">                 4/14 * (- 3/4 log(3/4) - 1/4 log(1/4)\n",
    ">\n",
    ">**I(Temperature) = 0.91**\n",
    ">\n",
    ">**Gain(Temperature) = 0.029**\n",
    "\n",
    "\n",
    ">\n",
    ">**I(Humidity) = 0.79**\n",
    ">\n",
    ">**Gain(Humidity) = 0.16**\n",
    "\n",
    "\n",
    ">\n",
    ">**I(Windy) = 0.89**\n",
    ">\n",
    ">**Gain(Windy) = 0.05**"
   ]
  },
  {
   "cell_type": "code",
   "execution_count": null,
   "id": "4cad92b9",
   "metadata": {},
   "outputs": [],
   "source": []
  }
 ],
 "metadata": {
  "kernelspec": {
   "display_name": "Python 3 (ipykernel)",
   "language": "python",
   "name": "python3"
  },
  "language_info": {
   "codemirror_mode": {
    "name": "ipython",
    "version": 3
   },
   "file_extension": ".py",
   "mimetype": "text/x-python",
   "name": "python",
   "nbconvert_exporter": "python",
   "pygments_lexer": "ipython3",
   "version": "3.9.7"
  }
 },
 "nbformat": 4,
 "nbformat_minor": 5
}
