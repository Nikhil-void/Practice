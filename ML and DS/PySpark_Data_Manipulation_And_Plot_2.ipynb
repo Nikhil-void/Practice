{
 "cells": [
  {
   "cell_type": "markdown",
   "id": "ab4b7b97",
   "metadata": {},
   "source": [
    "## Using PySpark to convert raw dataset into average score, Calculating best teams and finding each teams total wins."
   ]
  },
  {
   "cell_type": "code",
   "execution_count": 1,
   "id": "81a68fd7",
   "metadata": {},
   "outputs": [],
   "source": [
    "import findspark\n",
    "findspark.init()\n",
    "import pyspark as ps"
   ]
  },
  {
   "cell_type": "code",
   "execution_count": 2,
   "id": "11558dcf",
   "metadata": {},
   "outputs": [],
   "source": [
    "conf = ps.SparkConf().setAppName(\"proj_1\")\n",
    "sc = ps.SparkContext(conf=conf)"
   ]
  },
  {
   "cell_type": "code",
   "execution_count": 3,
   "id": "f73dbeec",
   "metadata": {},
   "outputs": [],
   "source": [
    "def debug(a):\n",
    "    with open('awd.txt', 'a') as fp:\n",
    "        fp.write('\\n'+str(a)+'\\n')"
   ]
  },
  {
   "cell_type": "code",
   "execution_count": 4,
   "id": "ba9e193d",
   "metadata": {},
   "outputs": [],
   "source": [
    "def average_score(x):\n",
    "    final_list = [x[0]]\n",
    "    for i in x[1]:\n",
    "        i = i[2:]\n",
    "        i = [int(a) for a in i]\n",
    "        #debug(i)\n",
    "        final_list.append(sum(i) / len(i))\n",
    "        #debug((sum(i) / len(i)))\n",
    "    return final_list[:12]"
   ]
  },
  {
   "cell_type": "code",
   "execution_count": 5,
   "id": "693c7240",
   "metadata": {},
   "outputs": [],
   "source": [
    "op = sc.textFile(\"IPL_SCORE.csv\")\\\n",
    "     .map(lambda x: x.split('\\n'))\\\n",
    "     .map(lambda x: x[0].split(','))\\\n",
    "     .filter(lambda x: False if x[0] == 'Team' else True )\\\n",
    "     .groupBy(lambda x: x[0])\\\n",
    "     .map(average_score)\n",
    "     #.map(lambda x: x[1:])"
   ]
  },
  {
   "cell_type": "code",
   "execution_count": 6,
   "id": "86edc674",
   "metadata": {},
   "outputs": [],
   "source": [
    "op = op.collect()"
   ]
  },
  {
   "cell_type": "code",
   "execution_count": 7,
   "id": "39c4c158",
   "metadata": {},
   "outputs": [],
   "source": [
    "import pandas as pd\n",
    "df = pd.DataFrame(op)"
   ]
  },
  {
   "cell_type": "code",
   "execution_count": 8,
   "id": "c4edbf90",
   "metadata": {},
   "outputs": [],
   "source": [
    "df = df.transpose()\n",
    "new_header = df.iloc[0]\n",
    "df = df[1:]\n",
    "df.columns = new_header"
   ]
  },
  {
   "cell_type": "code",
   "execution_count": 9,
   "id": "a5e56173",
   "metadata": {},
   "outputs": [
    {
     "data": {
      "text/html": [
       "<div>\n",
       "<style scoped>\n",
       "    .dataframe tbody tr th:only-of-type {\n",
       "        vertical-align: middle;\n",
       "    }\n",
       "\n",
       "    .dataframe tbody tr th {\n",
       "        vertical-align: top;\n",
       "    }\n",
       "\n",
       "    .dataframe thead th {\n",
       "        text-align: right;\n",
       "    }\n",
       "</style>\n",
       "<table border=\"1\" class=\"dataframe\">\n",
       "  <thead>\n",
       "    <tr style=\"text-align: right;\">\n",
       "      <th></th>\n",
       "      <th>CSK</th>\n",
       "      <th>DC</th>\n",
       "      <th>MI</th>\n",
       "      <th>KXIP</th>\n",
       "      <th>RCB</th>\n",
       "      <th>SRH</th>\n",
       "      <th>RR</th>\n",
       "      <th>KKR</th>\n",
       "    </tr>\n",
       "  </thead>\n",
       "  <tbody>\n",
       "    <tr>\n",
       "      <th>1</th>\n",
       "      <td>30.714286</td>\n",
       "      <td>38.857143</td>\n",
       "      <td>43.142857</td>\n",
       "      <td>69.714286</td>\n",
       "      <td>37.428571</td>\n",
       "      <td>56.142857</td>\n",
       "      <td>52.142857</td>\n",
       "      <td>35.357143</td>\n",
       "    </tr>\n",
       "    <tr>\n",
       "      <th>2</th>\n",
       "      <td>46.428571</td>\n",
       "      <td>52.928571</td>\n",
       "      <td>55.214286</td>\n",
       "      <td>55.0</td>\n",
       "      <td>50.357143</td>\n",
       "      <td>50.071429</td>\n",
       "      <td>32.642857</td>\n",
       "      <td>45.428571</td>\n",
       "    </tr>\n",
       "    <tr>\n",
       "      <th>3</th>\n",
       "      <td>49.0</td>\n",
       "      <td>29.857143</td>\n",
       "      <td>44.142857</td>\n",
       "      <td>55.428571</td>\n",
       "      <td>42.928571</td>\n",
       "      <td>40.928571</td>\n",
       "      <td>44.714286</td>\n",
       "      <td>36.214286</td>\n",
       "    </tr>\n",
       "    <tr>\n",
       "      <th>4</th>\n",
       "      <td>54.357143</td>\n",
       "      <td>42.5</td>\n",
       "      <td>55.357143</td>\n",
       "      <td>48.285714</td>\n",
       "      <td>45.571429</td>\n",
       "      <td>36.285714</td>\n",
       "      <td>53.428571</td>\n",
       "      <td>42.0</td>\n",
       "    </tr>\n",
       "    <tr>\n",
       "      <th>5</th>\n",
       "      <td>32.5</td>\n",
       "      <td>43.642857</td>\n",
       "      <td>41.857143</td>\n",
       "      <td>41.714286</td>\n",
       "      <td>43.714286</td>\n",
       "      <td>47.0</td>\n",
       "      <td>32.214286</td>\n",
       "      <td>23.357143</td>\n",
       "    </tr>\n",
       "    <tr>\n",
       "      <th>6</th>\n",
       "      <td>38.142857</td>\n",
       "      <td>40.214286</td>\n",
       "      <td>35.857143</td>\n",
       "      <td>20.428571</td>\n",
       "      <td>43.0</td>\n",
       "      <td>57.785714</td>\n",
       "      <td>49.857143</td>\n",
       "      <td>46.071429</td>\n",
       "    </tr>\n",
       "    <tr>\n",
       "      <th>7</th>\n",
       "      <td>46.357143</td>\n",
       "      <td>34.428571</td>\n",
       "      <td>36.285714</td>\n",
       "      <td>49.285714</td>\n",
       "      <td>51.642857</td>\n",
       "      <td>45.857143</td>\n",
       "      <td>15.142857</td>\n",
       "      <td>35.5</td>\n",
       "    </tr>\n",
       "    <tr>\n",
       "      <th>8</th>\n",
       "      <td>28.214286</td>\n",
       "      <td>40.714286</td>\n",
       "      <td>27.785714</td>\n",
       "      <td>42.214286</td>\n",
       "      <td>29.0</td>\n",
       "      <td>29.857143</td>\n",
       "      <td>46.714286</td>\n",
       "      <td>44.5</td>\n",
       "    </tr>\n",
       "    <tr>\n",
       "      <th>9</th>\n",
       "      <td>34.571429</td>\n",
       "      <td>55.714286</td>\n",
       "      <td>46.214286</td>\n",
       "      <td>41.428571</td>\n",
       "      <td>26.5</td>\n",
       "      <td>25.642857</td>\n",
       "      <td>42.142857</td>\n",
       "      <td>41.642857</td>\n",
       "    </tr>\n",
       "    <tr>\n",
       "      <th>10</th>\n",
       "      <td>50.285714</td>\n",
       "      <td>43.785714</td>\n",
       "      <td>39.0</td>\n",
       "      <td>47.642857</td>\n",
       "      <td>62.928571</td>\n",
       "      <td>31.571429</td>\n",
       "      <td>54.142857</td>\n",
       "      <td>35.5</td>\n",
       "    </tr>\n",
       "    <tr>\n",
       "      <th>11</th>\n",
       "      <td>27.857143</td>\n",
       "      <td>40.571429</td>\n",
       "      <td>48.285714</td>\n",
       "      <td>38.857143</td>\n",
       "      <td>40.785714</td>\n",
       "      <td>44.785714</td>\n",
       "      <td>24.714286</td>\n",
       "      <td>59.5</td>\n",
       "    </tr>\n",
       "  </tbody>\n",
       "</table>\n",
       "</div>"
      ],
      "text/plain": [
       "0         CSK         DC         MI       KXIP        RCB        SRH  \\\n",
       "1   30.714286  38.857143  43.142857  69.714286  37.428571  56.142857   \n",
       "2   46.428571  52.928571  55.214286       55.0  50.357143  50.071429   \n",
       "3        49.0  29.857143  44.142857  55.428571  42.928571  40.928571   \n",
       "4   54.357143       42.5  55.357143  48.285714  45.571429  36.285714   \n",
       "5        32.5  43.642857  41.857143  41.714286  43.714286       47.0   \n",
       "6   38.142857  40.214286  35.857143  20.428571       43.0  57.785714   \n",
       "7   46.357143  34.428571  36.285714  49.285714  51.642857  45.857143   \n",
       "8   28.214286  40.714286  27.785714  42.214286       29.0  29.857143   \n",
       "9   34.571429  55.714286  46.214286  41.428571       26.5  25.642857   \n",
       "10  50.285714  43.785714       39.0  47.642857  62.928571  31.571429   \n",
       "11  27.857143  40.571429  48.285714  38.857143  40.785714  44.785714   \n",
       "\n",
       "0          RR        KKR  \n",
       "1   52.142857  35.357143  \n",
       "2   32.642857  45.428571  \n",
       "3   44.714286  36.214286  \n",
       "4   53.428571       42.0  \n",
       "5   32.214286  23.357143  \n",
       "6   49.857143  46.071429  \n",
       "7   15.142857       35.5  \n",
       "8   46.714286       44.5  \n",
       "9   42.142857  41.642857  \n",
       "10  54.142857       35.5  \n",
       "11  24.714286       59.5  "
      ]
     },
     "execution_count": 9,
     "metadata": {},
     "output_type": "execute_result"
    }
   ],
   "source": [
    "df"
   ]
  },
  {
   "cell_type": "code",
   "execution_count": 10,
   "id": "0a37c3b5",
   "metadata": {},
   "outputs": [],
   "source": [
    "df1 = df.apply(pd.to_numeric)\n"
   ]
  },
  {
   "cell_type": "code",
   "execution_count": 11,
   "id": "d39bcc2a",
   "metadata": {},
   "outputs": [
    {
     "data": {
      "text/plain": [
       "<AxesSubplot:>"
      ]
     },
     "execution_count": 11,
     "metadata": {},
     "output_type": "execute_result"
    },
    {
     "data": {
      "image/png": "[encoded data removed]",
      "text/plain": [
       "<Figure size 1440x720 with 1 Axes>"
      ]
     },
     "metadata": {
      "needs_background": "light"
     },
     "output_type": "display_data"
    }
   ],
   "source": [
    "df1.boxplot(figsize=(20,10), fontsize=20)"
   ]
  },
  {
   "cell_type": "code",
   "execution_count": null,
   "id": "89ab0781",
   "metadata": {},
   "outputs": [],
   "source": []
  },
  {
   "cell_type": "code",
   "execution_count": 12,
   "id": "bf5db0f1",
   "metadata": {},
   "outputs": [],
   "source": [
    "teams = df1.columns"
   ]
  },
  {
   "cell_type": "code",
   "execution_count": 13,
   "id": "a3183b26",
   "metadata": {},
   "outputs": [
    {
     "data": {
      "text/plain": [
       "Index(['CSK', 'DC', 'MI', 'KXIP', 'RCB', 'SRH', 'RR', 'KKR'], dtype='object', name=0)"
      ]
     },
     "execution_count": 13,
     "metadata": {},
     "output_type": "execute_result"
    }
   ],
   "source": [
    "teams"
   ]
  },
  {
   "cell_type": "code",
   "execution_count": 14,
   "id": "19fa7018",
   "metadata": {},
   "outputs": [],
   "source": [
    "import itertools\n",
    "all_matchups = []\n",
    "for comb in itertools.combinations(teams, 2):\n",
    "    all_matchups.append(comb)"
   ]
  },
  {
   "cell_type": "code",
   "execution_count": 15,
   "id": "3621270b",
   "metadata": {},
   "outputs": [],
   "source": [
    "df_match_up = pd.DataFrame(all_matchups, columns=['team1', 'team2'])"
   ]
  },
  {
   "cell_type": "code",
   "execution_count": 16,
   "id": "f56215de",
   "metadata": {},
   "outputs": [],
   "source": [
    "sum_val = df1.sum()\n"
   ]
  },
  {
   "cell_type": "code",
   "execution_count": 17,
   "id": "009dcad8",
   "metadata": {},
   "outputs": [],
   "source": [
    "winning_team = []\n",
    "for i in range(len(df_match_up)) :\n",
    "    #print(df_match_up.loc[i, \"team1\"], df_match_up.loc[i, \"team2\"])\n",
    "    winner = sum_val[df_match_up.loc[i, \"team1\"]] - sum_val[df_match_up.loc[i, \"team2\"]]\n",
    "    if winner > 0:\n",
    "        win = df_match_up.loc[i, \"team1\"]\n",
    "    else:\n",
    "        win = df_match_up.loc[i, \"team2\"]\n",
    "    text = \"%s by %.2f score\" % (win, abs(winner))\n",
    "    winning_team.append(text)"
   ]
  },
  {
   "cell_type": "code",
   "execution_count": 18,
   "id": "1a412881",
   "metadata": {},
   "outputs": [
    {
     "data": {
      "text/plain": [
       "['DC by 24.79 score',\n",
       " 'MI by 34.71 score',\n",
       " 'KXIP by 71.57 score',\n",
       " 'RCB by 35.43 score',\n",
       " 'SRH by 27.50 score',\n",
       " 'RR by 9.43 score',\n",
       " 'KKR by 6.64 score',\n",
       " 'MI by 9.93 score',\n",
       " 'KXIP by 46.79 score',\n",
       " 'RCB by 10.64 score',\n",
       " 'SRH by 2.71 score',\n",
       " 'DC by 15.36 score',\n",
       " 'DC by 18.14 score',\n",
       " 'KXIP by 36.86 score',\n",
       " 'RCB by 0.71 score',\n",
       " 'MI by 7.21 score',\n",
       " 'MI by 25.29 score',\n",
       " 'MI by 28.07 score',\n",
       " 'KXIP by 36.14 score',\n",
       " 'KXIP by 44.07 score',\n",
       " 'KXIP by 62.14 score',\n",
       " 'KXIP by 64.93 score',\n",
       " 'RCB by 7.93 score',\n",
       " 'RCB by 26.00 score',\n",
       " 'RCB by 28.79 score',\n",
       " 'SRH by 18.07 score',\n",
       " 'SRH by 20.86 score',\n",
       " 'RR by 2.79 score']"
      ]
     },
     "execution_count": 18,
     "metadata": {},
     "output_type": "execute_result"
    }
   ],
   "source": [
    "winning_team"
   ]
  },
  {
   "cell_type": "code",
   "execution_count": 19,
   "id": "72f6a94f",
   "metadata": {},
   "outputs": [],
   "source": [
    "df_match_up['Winner'] = winning_team"
   ]
  },
  {
   "cell_type": "code",
   "execution_count": 20,
   "id": "826450f1",
   "metadata": {},
   "outputs": [
    {
     "data": {
      "text/html": [
       "<div>\n",
       "<style scoped>\n",
       "    .dataframe tbody tr th:only-of-type {\n",
       "        vertical-align: middle;\n",
       "    }\n",
       "\n",
       "    .dataframe tbody tr th {\n",
       "        vertical-align: top;\n",
       "    }\n",
       "\n",
       "    .dataframe thead th {\n",
       "        text-align: right;\n",
       "    }\n",
       "</style>\n",
       "<table border=\"1\" class=\"dataframe\">\n",
       "  <thead>\n",
       "    <tr style=\"text-align: right;\">\n",
       "      <th></th>\n",
       "      <th>team1</th>\n",
       "      <th>team2</th>\n",
       "      <th>Winner</th>\n",
       "    </tr>\n",
       "  </thead>\n",
       "  <tbody>\n",
       "    <tr>\n",
       "      <th>0</th>\n",
       "      <td>CSK</td>\n",
       "      <td>DC</td>\n",
       "      <td>DC by 24.79 score</td>\n",
       "    </tr>\n",
       "    <tr>\n",
       "      <th>1</th>\n",
       "      <td>CSK</td>\n",
       "      <td>MI</td>\n",
       "      <td>MI by 34.71 score</td>\n",
       "    </tr>\n",
       "    <tr>\n",
       "      <th>2</th>\n",
       "      <td>CSK</td>\n",
       "      <td>KXIP</td>\n",
       "      <td>KXIP by 71.57 score</td>\n",
       "    </tr>\n",
       "    <tr>\n",
       "      <th>3</th>\n",
       "      <td>CSK</td>\n",
       "      <td>RCB</td>\n",
       "      <td>RCB by 35.43 score</td>\n",
       "    </tr>\n",
       "    <tr>\n",
       "      <th>4</th>\n",
       "      <td>CSK</td>\n",
       "      <td>SRH</td>\n",
       "      <td>SRH by 27.50 score</td>\n",
       "    </tr>\n",
       "    <tr>\n",
       "      <th>5</th>\n",
       "      <td>CSK</td>\n",
       "      <td>RR</td>\n",
       "      <td>RR by 9.43 score</td>\n",
       "    </tr>\n",
       "    <tr>\n",
       "      <th>6</th>\n",
       "      <td>CSK</td>\n",
       "      <td>KKR</td>\n",
       "      <td>KKR by 6.64 score</td>\n",
       "    </tr>\n",
       "    <tr>\n",
       "      <th>7</th>\n",
       "      <td>DC</td>\n",
       "      <td>MI</td>\n",
       "      <td>MI by 9.93 score</td>\n",
       "    </tr>\n",
       "    <tr>\n",
       "      <th>8</th>\n",
       "      <td>DC</td>\n",
       "      <td>KXIP</td>\n",
       "      <td>KXIP by 46.79 score</td>\n",
       "    </tr>\n",
       "    <tr>\n",
       "      <th>9</th>\n",
       "      <td>DC</td>\n",
       "      <td>RCB</td>\n",
       "      <td>RCB by 10.64 score</td>\n",
       "    </tr>\n",
       "    <tr>\n",
       "      <th>10</th>\n",
       "      <td>DC</td>\n",
       "      <td>SRH</td>\n",
       "      <td>SRH by 2.71 score</td>\n",
       "    </tr>\n",
       "    <tr>\n",
       "      <th>11</th>\n",
       "      <td>DC</td>\n",
       "      <td>RR</td>\n",
       "      <td>DC by 15.36 score</td>\n",
       "    </tr>\n",
       "    <tr>\n",
       "      <th>12</th>\n",
       "      <td>DC</td>\n",
       "      <td>KKR</td>\n",
       "      <td>DC by 18.14 score</td>\n",
       "    </tr>\n",
       "    <tr>\n",
       "      <th>13</th>\n",
       "      <td>MI</td>\n",
       "      <td>KXIP</td>\n",
       "      <td>KXIP by 36.86 score</td>\n",
       "    </tr>\n",
       "    <tr>\n",
       "      <th>14</th>\n",
       "      <td>MI</td>\n",
       "      <td>RCB</td>\n",
       "      <td>RCB by 0.71 score</td>\n",
       "    </tr>\n",
       "    <tr>\n",
       "      <th>15</th>\n",
       "      <td>MI</td>\n",
       "      <td>SRH</td>\n",
       "      <td>MI by 7.21 score</td>\n",
       "    </tr>\n",
       "    <tr>\n",
       "      <th>16</th>\n",
       "      <td>MI</td>\n",
       "      <td>RR</td>\n",
       "      <td>MI by 25.29 score</td>\n",
       "    </tr>\n",
       "    <tr>\n",
       "      <th>17</th>\n",
       "      <td>MI</td>\n",
       "      <td>KKR</td>\n",
       "      <td>MI by 28.07 score</td>\n",
       "    </tr>\n",
       "    <tr>\n",
       "      <th>18</th>\n",
       "      <td>KXIP</td>\n",
       "      <td>RCB</td>\n",
       "      <td>KXIP by 36.14 score</td>\n",
       "    </tr>\n",
       "    <tr>\n",
       "      <th>19</th>\n",
       "      <td>KXIP</td>\n",
       "      <td>SRH</td>\n",
       "      <td>KXIP by 44.07 score</td>\n",
       "    </tr>\n",
       "    <tr>\n",
       "      <th>20</th>\n",
       "      <td>KXIP</td>\n",
       "      <td>RR</td>\n",
       "      <td>KXIP by 62.14 score</td>\n",
       "    </tr>\n",
       "    <tr>\n",
       "      <th>21</th>\n",
       "      <td>KXIP</td>\n",
       "      <td>KKR</td>\n",
       "      <td>KXIP by 64.93 score</td>\n",
       "    </tr>\n",
       "    <tr>\n",
       "      <th>22</th>\n",
       "      <td>RCB</td>\n",
       "      <td>SRH</td>\n",
       "      <td>RCB by 7.93 score</td>\n",
       "    </tr>\n",
       "    <tr>\n",
       "      <th>23</th>\n",
       "      <td>RCB</td>\n",
       "      <td>RR</td>\n",
       "      <td>RCB by 26.00 score</td>\n",
       "    </tr>\n",
       "    <tr>\n",
       "      <th>24</th>\n",
       "      <td>RCB</td>\n",
       "      <td>KKR</td>\n",
       "      <td>RCB by 28.79 score</td>\n",
       "    </tr>\n",
       "    <tr>\n",
       "      <th>25</th>\n",
       "      <td>SRH</td>\n",
       "      <td>RR</td>\n",
       "      <td>SRH by 18.07 score</td>\n",
       "    </tr>\n",
       "    <tr>\n",
       "      <th>26</th>\n",
       "      <td>SRH</td>\n",
       "      <td>KKR</td>\n",
       "      <td>SRH by 20.86 score</td>\n",
       "    </tr>\n",
       "    <tr>\n",
       "      <th>27</th>\n",
       "      <td>RR</td>\n",
       "      <td>KKR</td>\n",
       "      <td>RR by 2.79 score</td>\n",
       "    </tr>\n",
       "  </tbody>\n",
       "</table>\n",
       "</div>"
      ],
      "text/plain": [
       "   team1 team2               Winner\n",
       "0    CSK    DC    DC by 24.79 score\n",
       "1    CSK    MI    MI by 34.71 score\n",
       "2    CSK  KXIP  KXIP by 71.57 score\n",
       "3    CSK   RCB   RCB by 35.43 score\n",
       "4    CSK   SRH   SRH by 27.50 score\n",
       "5    CSK    RR     RR by 9.43 score\n",
       "6    CSK   KKR    KKR by 6.64 score\n",
       "7     DC    MI     MI by 9.93 score\n",
       "8     DC  KXIP  KXIP by 46.79 score\n",
       "9     DC   RCB   RCB by 10.64 score\n",
       "10    DC   SRH    SRH by 2.71 score\n",
       "11    DC    RR    DC by 15.36 score\n",
       "12    DC   KKR    DC by 18.14 score\n",
       "13    MI  KXIP  KXIP by 36.86 score\n",
       "14    MI   RCB    RCB by 0.71 score\n",
       "15    MI   SRH     MI by 7.21 score\n",
       "16    MI    RR    MI by 25.29 score\n",
       "17    MI   KKR    MI by 28.07 score\n",
       "18  KXIP   RCB  KXIP by 36.14 score\n",
       "19  KXIP   SRH  KXIP by 44.07 score\n",
       "20  KXIP    RR  KXIP by 62.14 score\n",
       "21  KXIP   KKR  KXIP by 64.93 score\n",
       "22   RCB   SRH    RCB by 7.93 score\n",
       "23   RCB    RR   RCB by 26.00 score\n",
       "24   RCB   KKR   RCB by 28.79 score\n",
       "25   SRH    RR   SRH by 18.07 score\n",
       "26   SRH   KKR   SRH by 20.86 score\n",
       "27    RR   KKR     RR by 2.79 score"
      ]
     },
     "execution_count": 20,
     "metadata": {},
     "output_type": "execute_result"
    }
   ],
   "source": [
    "df_match_up"
   ]
  },
  {
   "cell_type": "code",
   "execution_count": 21,
   "id": "fe306508",
   "metadata": {},
   "outputs": [
    {
     "data": {
      "text/plain": [
       "Index(['CSK', 'DC', 'MI', 'KXIP', 'RCB', 'SRH', 'RR', 'KKR'], dtype='object', name=0)"
      ]
     },
     "execution_count": 21,
     "metadata": {},
     "output_type": "execute_result"
    }
   ],
   "source": [
    "teams"
   ]
  },
  {
   "cell_type": "code",
   "execution_count": 22,
   "id": "512edffc",
   "metadata": {},
   "outputs": [],
   "source": [
    "import random\n",
    "each_20 = []\n",
    "for team in teams:\n",
    "    new_matches = []\n",
    "    while len(new_matches) < 21:\n",
    "        t = random.choice(teams)\n",
    "        if t != team:\n",
    "            result = 0 if (sum_val[team] - sum_val[t] > 0) else 1\n",
    "            new_matches.append((team, t,  sum_val[team], sum_val[t], result))\n",
    "    each_20.extend(new_matches)"
   ]
  },
  {
   "cell_type": "code",
   "execution_count": 23,
   "id": "b9e90ada",
   "metadata": {},
   "outputs": [],
   "source": [
    "win_count = {}\n",
    "for matches in each_20:\n",
    "    winner = matches[matches[4]]\n",
    "    win_count[winner] = win_count.get(winner, 0) + 1"
   ]
  },
  {
   "cell_type": "code",
   "execution_count": 24,
   "id": "f37dcfef",
   "metadata": {},
   "outputs": [
    {
     "data": {
      "text/plain": [
       "{'SRH': 25, 'KKR': 3, 'KXIP': 42, 'DC': 18, 'RR': 15, 'RCB': 33, 'MI': 32}"
      ]
     },
     "execution_count": 24,
     "metadata": {},
     "output_type": "execute_result"
    }
   ],
   "source": [
    "win_count"
   ]
  },
  {
   "cell_type": "code",
   "execution_count": null,
   "id": "91eb52af",
   "metadata": {},
   "outputs": [],
   "source": []
  }
 ],
 "metadata": {
  "kernelspec": {
   "display_name": "Python 3",
   "language": "python",
   "name": "python3"
  },
  "language_info": {
   "codemirror_mode": {
    "name": "ipython",
    "version": 3
   },
   "file_extension": ".py",
   "mimetype": "text/x-python",
   "name": "python",
   "nbconvert_exporter": "python",
   "pygments_lexer": "ipython3",
   "version": "3.8.8"
  }
 },
 "nbformat": 4,
 "nbformat_minor": 5
}
